{
  "nbformat": 4,
  "nbformat_minor": 0,
  "metadata": {
    "colab": {
      "provenance": [],
      "authorship_tag": "ABX9TyMJi0MmJnrW81NCXCX68t2m",
      "include_colab_link": true
    },
    "kernelspec": {
      "name": "python3",
      "display_name": "Python 3"
    },
    "language_info": {
      "name": "python"
    }
  },
  "cells": [
    {
      "cell_type": "markdown",
      "metadata": {
        "id": "view-in-github",
        "colab_type": "text"
      },
      "source": [
        "<a href=\"https://colab.research.google.com/github/MelisaCHasan/MAT461/blob/main/ModuleB.ipynb\" target=\"_parent\"><img src=\"https://colab.research.google.com/assets/colab-badge.svg\" alt=\"Open In Colab\"/></a>"
      ]
    },
    {
      "cell_type": "markdown",
      "source": [
        "**Problem 1**\n",
        "Write a function my_lin_interp(x, y, X), where x and y are arrays containing experimental data points, and X is an array. Assume that x and X are in ascending order and have unique elements. The output argument, Y, should be an array, the same size as X, where Y[i] is the linear interpolation of X[i]. You should not use interp from numpy or interp1d from scipy."
      ],
      "metadata": {
        "id": "d1mo_Y9qUDjt"
      }
    },
    {
      "cell_type": "code",
      "source": [
        "from array import array\n",
        "def my_lin_interp(x, y, X):\n",
        "  xi_array = x\n",
        "  yi_array = y\n",
        "  X_array = X\n",
        "  Y_array = []\n",
        "  i = 0\n",
        "  j = 0\n",
        "  array_length = len(X_array)\n",
        "  while j < array_length:\n",
        "    while i+1 != array_length:\n",
        "       if xi_array[i] < X_array[j] and X_array[j] < xi_array[i+1]:\n",
        "        slope = float((yi_array[i+1]-yi_array[i])/(xi_array[i+1]-xi_array[i]))\n",
        "        print(slope)\n",
        "        Yi = float(yi_array[i] + slope * (X_array[j]-xi_array[i]))\n",
        "        print(Yi)\n",
        "        Y_array.append(Yi)\n",
        "        print(Y_array)\n",
        "        j+=1\n",
        "        i = 0\n",
        "       else:\n",
        "        i+=1\n",
        "\n",
        "  return Y_array\n"
      ],
      "metadata": {
        "id": "r8d6oRVhUT9K"
      },
      "execution_count": 29,
      "outputs": []
    },
    {
      "cell_type": "markdown",
      "source": [
        "The code above takes the three arrays and assigns them to a variable. It then creates an empty array for Y. The code then initiallizes indicies for both x and X. The loop then runs through the list of X and finds intervals in x and y to calculate Y and input the results in the Y array."
      ],
      "metadata": {
        "id": "BPonbaEhd89L"
      }
    },
    {
      "cell_type": "markdown",
      "source": [
        "**Cubic Spline Interpolation**"
      ],
      "metadata": {
        "id": "7R1kea0Vx0Pk"
      }
    },
    {
      "cell_type": "markdown",
      "source": [
        "To calculate the cubic spline you need to determine the amount of equations and coeficients you need to find. The amount of coefficients is 4(n-1), so if you have three sets of points there would be 8 coefficients. If there were seven sets of points there would be 24 coefficients. Once we know how many coefficients we have to find the same amount of equations to determine the coefficients. You can get the first set of equations by evaluating polynomials at the known data points. Then take the derivative of the equations for the interior data points. Once you have taken the first derivative you then need to take the second derivative of the interior points and equate them where the continuity is ocurring, as a result these equations will equal zero. The last set of equations takes the second derivative of the end points and sets them equal to zero, make sure you are evaluating at the end point(x). Since we have a set of linear equations we can set up a matrix to solve for the coefficients. Once we have the coefficients we can then plug in and evaluate for the x we are trying to find."
      ],
      "metadata": {
        "id": "v3NfYKUTqaC6"
      }
    },
    {
      "cell_type": "code",
      "source": [],
      "metadata": {
        "id": "HRo9Oq1vw7-B"
      },
      "execution_count": null,
      "outputs": []
    }
  ]
}