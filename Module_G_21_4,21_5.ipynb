{
  "nbformat": 4,
  "nbformat_minor": 0,
  "metadata": {
    "colab": {
      "provenance": [],
      "authorship_tag": "ABX9TyOjjitC1zOR7itOfNRIJS16",
      "include_colab_link": true
    },
    "kernelspec": {
      "name": "python3",
      "display_name": "Python 3"
    },
    "language_info": {
      "name": "python"
    }
  },
  "cells": [
    {
      "cell_type": "markdown",
      "metadata": {
        "id": "view-in-github",
        "colab_type": "text"
      },
      "source": [
        "<a href=\"https://colab.research.google.com/github/MelisaCHasan/MAT461/blob/main/Module_G_21_4%2C21_5.ipynb\" target=\"_parent\"><img src=\"https://colab.research.google.com/assets/colab-badge.svg\" alt=\"Open In Colab\"/></a>"
      ]
    },
    {
      "cell_type": "markdown",
      "source": [
        "Write a function my_num_calc(f,a,b,n,option), where the output I is the numerical integral of f, a function object, computed on a grid of n evenly spaced points starting at a and ending at b. The integration method used should be one of the following strings defined by option: ‘rect’, ‘trap’, ‘simp’. For the rectangle method, the function value should be taken from the right endpoint of the interval. You may assume that n is odd."
      ],
      "metadata": {
        "id": "jXKL9faSX4oI"
      }
    },
    {
      "cell_type": "code",
      "execution_count": 10,
      "metadata": {
        "colab": {
          "base_uri": "https://localhost:8080/"
        },
        "id": "xt1iWCeoXl2n",
        "outputId": "2cfa9ff9-09db-41d8-e139-949e9183f612"
      },
      "outputs": [
        {
          "output_type": "stream",
          "name": "stdout",
          "text": [
            "0.625\n",
            "0.375\n",
            "0.3333333333333333\n",
            "2.961547346105437\n",
            "2.9256659293914926\n",
            "2.9253397355720656\n"
          ]
        }
      ],
      "source": [
        "import numpy as np\n",
        "from scipy.integrate import trapz\n",
        "\n",
        "def my_num_calc(f, a, b, n, option):\n",
        "  h = (b-a) / (n-1)\n",
        "  x = np.linspace(a, b, n)\n",
        "  f = f(x)\n",
        "\n",
        "  if option == 'rect':\n",
        "    integral = h * sum(f[1::])\n",
        "    return  integral\n",
        "  elif option == 'trap':\n",
        "    integral = trapz(f, x)\n",
        "    return integral\n",
        "  else:\n",
        "    integral = (h/3) * (f[0] + 2*sum(f[:n-2:2]) + 4*sum(f[1:n-1:2]) + f[n-1])\n",
        "    return integral\n",
        "\n",
        "f = lambda x: x**2\n",
        "print(my_num_calc(f, 0, 1, 3, 'rect'))\n",
        "\n",
        "print(my_num_calc(f, 0, 1, 3, 'trap'))\n",
        "\n",
        "print(my_num_calc(f, 0, 1, 3, 'simp'))\n",
        "\n",
        "f = lambda x: np.exp(x**2)\n",
        "print(my_num_calc(f, -1, 1, 101, 'simp'))\n",
        "\n",
        "print(my_num_calc(f, -1, 1, 10001, 'simp'))\n",
        "\n",
        "print(my_num_calc(f, -1, 1, 100001, 'simp'))"
      ]
    },
    {
      "cell_type": "code",
      "source": [],
      "metadata": {
        "id": "sGBZM15Aa3K9"
      },
      "execution_count": null,
      "outputs": []
    }
  ]
}