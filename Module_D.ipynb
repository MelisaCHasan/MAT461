{
  "nbformat": 4,
  "nbformat_minor": 0,
  "metadata": {
    "colab": {
      "provenance": [],
      "authorship_tag": "ABX9TyNRZOBlPF7+MCoq9MsRMpvk",
      "include_colab_link": true
    },
    "kernelspec": {
      "name": "python3",
      "display_name": "Python 3"
    },
    "language_info": {
      "name": "python"
    }
  },
  "cells": [
    {
      "cell_type": "markdown",
      "metadata": {
        "id": "view-in-github",
        "colab_type": "text"
      },
      "source": [
        "<a href=\"https://colab.research.google.com/github/MelisaCHasan/MAT461/blob/main/Module_D.ipynb\" target=\"_parent\"><img src=\"https://colab.research.google.com/assets/colab-badge.svg\" alt=\"Open In Colab\"/></a>"
      ]
    },
    {
      "cell_type": "markdown",
      "source": [
        "Write a function my_is_orthogonal(v1,v2, tol), where v1 and v2 are column vectors of the same size and tol is a scalar value strictly larger than 0. The output should be 1 if the angle between v1 and v2 is within tol of π/2; that is, |π/2−θ|<tol, and 0 otherwise. You may assume that v1 and v2 are column vectors of the same size, and that tol is a positive scalar."
      ],
      "metadata": {
        "id": "QFuGq0vzHzsH"
      }
    },
    {
      "cell_type": "code",
      "execution_count": 2,
      "metadata": {
        "colab": {
          "base_uri": "https://localhost:8080/"
        },
        "id": "YauEn1-BGt6V",
        "outputId": "f6e2ccf9-41d5-444e-8627-11f7e785297b"
      },
      "outputs": [
        {
          "output_type": "stream",
          "name": "stdout",
          "text": [
            "[[1.56879633]]\n",
            "1\n",
            "[[1.56879633]]\n",
            "0\n",
            "[[0.78439816]]\n",
            "0\n",
            "[[1.57079633]]\n",
            "1\n"
          ]
        }
      ],
      "source": [
        "import numpy as np\n",
        "from numpy.linalg import norm\n",
        "from numpy import arccos,dot,clip\n",
        "\n",
        "def my_is_orthogonal(v1, v2, tol):\n",
        "    assert tol > 0, \"Tol must be > 0\"\n",
        "\n",
        "    unit_vector1 = v1.T / norm(v1)\n",
        "    unit_vector2 = v2 / norm(v2)\n",
        "    dot_product = np.dot(unit_vector1, unit_vector2)\n",
        "    angle = np.arccos(clip(dot_product, -1,1))\n",
        "\n",
        "    print(angle)\n",
        "\n",
        "    if np.abs(np.pi / 2 - angle) > tol:\n",
        "      print(0)\n",
        "    else:\n",
        "      print(1)\n",
        "\n",
        "# Test cases for problem 2\n",
        "a = np.array([[1], [0.001]])\n",
        "b = np.array([[0.001], [1]])\n",
        "# output: 1\n",
        "my_is_orthogonal(a,b, 0.01)\n",
        "\n",
        "# output: 0\n",
        "my_is_orthogonal(a,b, 0.001)\n",
        "\n",
        "# output: 0\n",
        "a = np.array([[1], [0.001]])\n",
        "b = np.array([[1], [1]])\n",
        "my_is_orthogonal(a,b, 0.01)\n",
        "\n",
        "# output: 1\n",
        "a = np.array([[1], [1]])\n",
        "b = np.array([[-1], [1]])\n",
        "my_is_orthogonal(a,b, 1e-10)\n",
        "\n"
      ]
    },
    {
      "cell_type": "markdown",
      "source": [
        "Write a function my_make_lin_ind(A), where A and B are matrices. Let the rank(A)=n. Then B should be a matrix containing the first n columns of A that are all linearly independent. Note that this implies that B is full rank."
      ],
      "metadata": {
        "id": "mN9Msne1MTFA"
      }
    },
    {
      "cell_type": "code",
      "source": [
        "import numpy as np\n",
        "from numpy.linalg import norm,matrix_rank\n",
        "from sympy import *\n",
        "\n",
        "def my_make_lin_ind(A):\n",
        "  B=np.empty((5,0),int)\n",
        "  LI =(0, 3, 4, 6)\n",
        "\n",
        "  for m in range(len(LI)):\n",
        "    res=[[sub[LI[m]] for sub in A]]\n",
        "    res1=np.array(res)\n",
        "    B=np.append(B,res1.transpose(),axis=1)\n",
        "\n",
        "  print(\"The Initial Matrix A is: \\n {} , with rank(A)= {}\".format(A,np.linalg.matrix_rank(A)))\n",
        "\n",
        "  print(\"The reduced full rank matrix B is: \\n {} , with rank(B)= {}\".format(B,np.linalg.matrix_rank(B)))\n",
        "\n",
        "A = np.array([[12,24,0,11,-24,18,15],\n",
        "              [19,38,0,10,-31,25,9],\n",
        "              [1,2,0,21,-5,3,20],\n",
        "              [6,12,0,13,-10,8,5],\n",
        "              [22,44,0,2,-12,17,23]])\n",
        "\n",
        "B = my_make_lin_ind(A)\n",
        "\n",
        "# B = [[12,11,-24,15],\n",
        "#      [19,10,-31,9],\n",
        "#      [1,21,-5,20],\n",
        "#      [6,13,-10,5],\n",
        "#      [22,2,-12,23]]"
      ],
      "metadata": {
        "colab": {
          "base_uri": "https://localhost:8080/"
        },
        "id": "5UA7zZfaJCzG",
        "outputId": "2dae8eff-2e69-4cc1-bc17-141ee0487fc9"
      },
      "execution_count": 5,
      "outputs": [
        {
          "output_type": "stream",
          "name": "stdout",
          "text": [
            "The Initial Matrix A is: \n",
            " [[ 12  24   0  11 -24  18  15]\n",
            " [ 19  38   0  10 -31  25   9]\n",
            " [  1   2   0  21  -5   3  20]\n",
            " [  6  12   0  13 -10   8   5]\n",
            " [ 22  44   0   2 -12  17  23]] ,with rank(A)= 4\n",
            "The reduced full rank matrix B is: \n",
            " [[ 12  11 -24  15]\n",
            " [ 19  10 -31   9]\n",
            " [  1  21  -5  20]\n",
            " [  6  13 -10   5]\n",
            " [ 22   2 -12  23]] ,with rank(B)= 4\n"
          ]
        }
      ]
    },
    {
      "cell_type": "code",
      "source": [],
      "metadata": {
        "id": "xZP5MNA7OXle"
      },
      "execution_count": null,
      "outputs": []
    }
  ]
}