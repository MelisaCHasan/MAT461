{
  "nbformat": 4,
  "nbformat_minor": 0,
  "metadata": {
    "colab": {
      "provenance": [],
      "authorship_tag": "ABX9TyNCd1conzwessQdHYd5sid0",
      "include_colab_link": true
    },
    "kernelspec": {
      "name": "python3",
      "display_name": "Python 3"
    },
    "language_info": {
      "name": "python"
    }
  },
  "cells": [
    {
      "cell_type": "markdown",
      "metadata": {
        "id": "view-in-github",
        "colab_type": "text"
      },
      "source": [
        "<a href=\"https://colab.research.google.com/github/MelisaCHasan/MAT461/blob/main/Module_E.ipynb\" target=\"_parent\"><img src=\"https://colab.research.google.com/assets/colab-badge.svg\" alt=\"Open In Colab\"/></a>"
      ]
    },
    {
      "cell_type": "markdown",
      "source": [
        "Write a function my_der_calc(f,a,b,N,option), with the output as [df,X], where f is a function object, a and b are scalars such that a < b, N is an integer bigger than 10, and option is the string forward, backward, or central. Let x be an array starting at a, ending at b, containing N evenly spaced elements, and let y be the array f(x). The output argument, df, should be the numerical derivatives computed for x and y according to the method defined by the input argument, option. The output argument X should be an array the same size as df containing the points in x for which df is valid. Specifically, the forward difference method “loses” the last point, the backward difference method loses the first point, and the central difference method loses the first and last points."
      ],
      "metadata": {
        "id": "Iuzx6iThr2jN"
      }
    },
    {
      "cell_type": "code",
      "execution_count": 1,
      "metadata": {
        "id": "zZISoyEtrzkC"
      },
      "outputs": [],
      "source": [
        "import numpy as np\n",
        "import matplotlib.pyplot as plt\n",
        "\n",
        "def my_der_calc(f,a,b,N,option):\n",
        "  n=N\n",
        "  x=np.linspace(a,b,n)\n",
        "\n",
        "  if option == \"forward\":\n",
        "    X=x[0:n-1]\n",
        "    df=(f(x[1:n])-f(x[0:n-1]))/(x[1:n]-x[0:n-1])\n",
        "  elif option == \"backward\":\n",
        "    X=x[1:n]\n",
        "    df=(f(x[1:n])-f(x[0:n-1]))/(x[1:n]-x[0:n-1])\n",
        "  else :\n",
        "    X=x[1:n-1]\n",
        "    df=(f(x[2:n])-f(x[0:n-2]))/(x[2:n]-x[0:n-2])\n",
        "  return df,X\n",
        "\n"
      ]
    },
    {
      "cell_type": "markdown",
      "source": [
        "Write the Taylor series expansion for ex2 around a=0. Write a function my_double_exp(x, n), which computes an approximation of ex2 using the first n terms of the Taylor series expansion. Be sure that my_double_exp can take array inputs."
      ],
      "metadata": {
        "id": "hey50RPhyVGq"
      }
    },
    {
      "cell_type": "code",
      "source": [
        "import numpy as np\n",
        "import math\n",
        "def my_double_exp(x, n):\n",
        "  #Testing the function for an array of inputs\n",
        "  for i, j in zip(x, n):\n",
        "    exp = 0\n",
        "    #var is the value of x in the equation\n",
        "    var = i\n",
        "    #Computing the sum for given order, where order is n\n",
        "    for order in range(j):\n",
        "      #computing exp with the derived formula\n",
        "      exp = exp + (var)**(2*order)/math.factorial(order)\n",
        "    print(f\"Using the first {j} terms for x = {i}, the approximation is {exp}\")\n"
      ],
      "metadata": {
        "id": "DaPwmJyAsVru"
      },
      "execution_count": 10,
      "outputs": []
    },
    {
      "cell_type": "code",
      "source": [],
      "metadata": {
        "id": "z6U9jOJFzMWX"
      },
      "execution_count": null,
      "outputs": []
    }
  ]
}