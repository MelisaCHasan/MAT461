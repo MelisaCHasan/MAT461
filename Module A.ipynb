{
  "nbformat": 4,
  "nbformat_minor": 0,
  "metadata": {
    "colab": {
      "provenance": [],
      "authorship_tag": "ABX9TyN9SAMtQdMPnY5IRlxQqR/Q",
      "include_colab_link": true
    },
    "kernelspec": {
      "name": "python3",
      "display_name": "Python 3"
    },
    "language_info": {
      "name": "python"
    }
  },
  "cells": [
    {
      "cell_type": "markdown",
      "metadata": {
        "id": "view-in-github",
        "colab_type": "text"
      },
      "source": [
        "<a href=\"https://colab.research.google.com/github/MelisaCHasan/MAT461/blob/main/Module%20A.ipynb\" target=\"_parent\"><img src=\"https://colab.research.google.com/assets/colab-badge.svg\" alt=\"Open In Colab\"/></a>"
      ]
    },
    {
      "cell_type": "markdown",
      "source": [
        "Problem #1 Converting binary to decimal"
      ],
      "metadata": {
        "id": "ivipXRg8gf5l"
      }
    },
    {
      "cell_type": "code",
      "execution_count": 15,
      "metadata": {
        "id": "lgrG7YkGOhyx"
      },
      "outputs": [],
      "source": [
        "def my_bin_2_dec(b):\n",
        "    d = 0\n",
        "    element = b\n",
        "    power = len(element) - 1\n",
        "    for i in b:\n",
        "      x = 2**power * i\n",
        "      power -= 1\n",
        "      d += x\n",
        "    return d\n"
      ]
    },
    {
      "cell_type": "code",
      "source": [
        "my_bin_2_dec([1, 1, 1])"
      ],
      "metadata": {
        "colab": {
          "base_uri": "https://localhost:8080/"
        },
        "id": "77i-GA9da_Up",
        "outputId": "3ece3eda-9e8f-4474-fe00-da5f8ecce0be"
      },
      "execution_count": 16,
      "outputs": [
        {
          "output_type": "execute_result",
          "data": {
            "text/plain": [
              "7"
            ]
          },
          "metadata": {},
          "execution_count": 16
        }
      ]
    },
    {
      "cell_type": "code",
      "source": [
        "my_bin_2_dec([1, 0, 1, 0, 1, 0, 1])"
      ],
      "metadata": {
        "colab": {
          "base_uri": "https://localhost:8080/"
        },
        "id": "KIV7-QlLdAVY",
        "outputId": "3d99627d-e3af-433c-fdee-80475abc865d"
      },
      "execution_count": 17,
      "outputs": [
        {
          "output_type": "execute_result",
          "data": {
            "text/plain": [
              "85"
            ]
          },
          "metadata": {},
          "execution_count": 17
        }
      ]
    },
    {
      "cell_type": "code",
      "source": [
        "my_bin_2_dec([1]*25)"
      ],
      "metadata": {
        "colab": {
          "base_uri": "https://localhost:8080/"
        },
        "id": "UqvHCgZMdD0X",
        "outputId": "71e991b4-f382-4a90-bc84-9f34aa0e948c"
      },
      "execution_count": 19,
      "outputs": [
        {
          "output_type": "execute_result",
          "data": {
            "text/plain": [
              "33554431"
            ]
          },
          "metadata": {},
          "execution_count": 19
        }
      ]
    },
    {
      "cell_type": "markdown",
      "source": [
        "Problem #2 Converting decimal to binary\n"
      ],
      "metadata": {
        "id": "-gdVkdtmgriE"
      }
    },
    {
      "cell_type": "code",
      "source": [
        "def my_dec_2_bin(d):\n",
        "    b = []\n",
        "    if d >= 1:\n",
        "      while d > 0:\n",
        "        b.append(d % 2)\n",
        "        d = d // 2\n",
        "      b.reverse()\n",
        "    else:\n",
        "      b.append(0)\n",
        "    return b\n"
      ],
      "metadata": {
        "colab": {
          "base_uri": "https://localhost:8080/"
        },
        "id": "D-JsLMYrgq0a",
        "outputId": "5eb721f2-d80f-48f4-ece3-1d6e5f4aba52"
      },
      "execution_count": 46,
      "outputs": [
        {
          "output_type": "execute_result",
          "data": {
            "text/plain": [
              "[1, 0, 1, 1, 1]"
            ]
          },
          "metadata": {},
          "execution_count": 46
        }
      ]
    },
    {
      "cell_type": "code",
      "source": [
        "my_dec_2_bin(0)"
      ],
      "metadata": {
        "colab": {
          "base_uri": "https://localhost:8080/"
        },
        "id": "9Z5mUr_4havW",
        "outputId": "338df17a-3284-4403-b25e-5fd5ba33d31e"
      },
      "execution_count": 47,
      "outputs": [
        {
          "output_type": "execute_result",
          "data": {
            "text/plain": [
              "[0]"
            ]
          },
          "metadata": {},
          "execution_count": 47
        }
      ]
    },
    {
      "cell_type": "code",
      "source": [
        "my_dec_2_bin(23)"
      ],
      "metadata": {
        "colab": {
          "base_uri": "https://localhost:8080/"
        },
        "id": "XaOm2ScClRZB",
        "outputId": "560a8924-5425-4170-e83c-c20805ae9350"
      },
      "execution_count": 48,
      "outputs": [
        {
          "output_type": "execute_result",
          "data": {
            "text/plain": [
              "[1, 0, 1, 1, 1]"
            ]
          },
          "metadata": {},
          "execution_count": 48
        }
      ]
    },
    {
      "cell_type": "code",
      "source": [
        "my_dec_2_bin(2097)"
      ],
      "metadata": {
        "colab": {
          "base_uri": "https://localhost:8080/"
        },
        "id": "sZN2Y7vEwa1C",
        "outputId": "46f90be0-0317-42a8-99c7-2c46f3eb10ae"
      },
      "execution_count": 49,
      "outputs": [
        {
          "output_type": "execute_result",
          "data": {
            "text/plain": [
              "[1, 0, 0, 0, 0, 0, 1, 1, 0, 0, 0, 1]"
            ]
          },
          "metadata": {},
          "execution_count": 49
        }
      ]
    },
    {
      "cell_type": "markdown",
      "source": [
        "Problem #3 Floating Point to Decimal"
      ],
      "metadata": {
        "id": "DciZdqTovhqD"
      }
    },
    {
      "cell_type": "code",
      "source": [
        "def my_ieee_2_dec(ieee):\n",
        "    sign_bit = int(ieee[0])\n",
        "    exponent_bits = ieee[1:12]\n",
        "    fraction_bits = ieee[12:]\n",
        "    exponent = int(exponent_bits,2)\n",
        "    bias = 1023\n",
        "    exp = exponent - bias\n",
        "    fraction = 1.0\n",
        "    for i in range(52):\n",
        "      #print(fraction)\n",
        "      fraction += float(fraction_bits[i]) * 2**(-i-1)\n",
        "    d = ((-1)**sign_bit) * (2**exp) * fraction\n",
        "    print(d)\n",
        "\n",
        "    return d"
      ],
      "metadata": {
        "id": "s6zdADEu1zWy"
      },
      "execution_count": 68,
      "outputs": []
    },
    {
      "cell_type": "code",
      "source": [
        "ieee = '1100000001001000000000000000000000000000000000000000000000000000'\n",
        "my_ieee_2_dec(ieee)"
      ],
      "metadata": {
        "colab": {
          "base_uri": "https://localhost:8080/"
        },
        "id": "TXZs3AszAHFr",
        "outputId": "603c4235-ab83-452a-ce2b-25c10781c4fe"
      },
      "execution_count": 65,
      "outputs": [
        {
          "output_type": "stream",
          "name": "stdout",
          "text": [
            "-48.0\n"
          ]
        },
        {
          "output_type": "execute_result",
          "data": {
            "text/plain": [
              "-48.0"
            ]
          },
          "metadata": {},
          "execution_count": 65
        }
      ]
    },
    {
      "cell_type": "code",
      "source": [
        "ieee = '0100000000001011001100110011001100110011001100110011001100110011'\n",
        "my_ieee_2_dec(ieee)"
      ],
      "metadata": {
        "colab": {
          "base_uri": "https://localhost:8080/"
        },
        "id": "R7XBEeTBAd0e",
        "outputId": "ff7a106b-d6ee-4406-bcd6-a1849d742776"
      },
      "execution_count": 66,
      "outputs": [
        {
          "output_type": "stream",
          "name": "stdout",
          "text": [
            "3.4\n"
          ]
        },
        {
          "output_type": "execute_result",
          "data": {
            "text/plain": [
              "3.4"
            ]
          },
          "metadata": {},
          "execution_count": 66
        }
      ]
    },
    {
      "cell_type": "markdown",
      "source": [
        "The code above is correct but for the second problem I am experiencing round off errors. If you removethe comment from print(fraction) you can see that the fraction does not go beyond a certain number of bits before it just rounds to give 1.7 as the fraction which gives the rounded number 3.4 instead of the expected 3.39999999999999991118215802999."
      ],
      "metadata": {
        "id": "1uLumnJdSoKM"
      }
    }
  ]
}