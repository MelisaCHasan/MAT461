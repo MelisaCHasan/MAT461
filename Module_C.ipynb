{
  "nbformat": 4,
  "nbformat_minor": 0,
  "metadata": {
    "colab": {
      "provenance": [],
      "authorship_tag": "ABX9TyNcKG2qbBxcTl4BDTTtyzOw",
      "include_colab_link": true
    },
    "kernelspec": {
      "name": "python3",
      "display_name": "Python 3"
    },
    "language_info": {
      "name": "python"
    }
  },
  "cells": [
    {
      "cell_type": "markdown",
      "metadata": {
        "id": "view-in-github",
        "colab_type": "text"
      },
      "source": [
        "<a href=\"https://colab.research.google.com/github/MelisaCHasan/MAT461/blob/main/Module_C.ipynb\" target=\"_parent\"><img src=\"https://colab.research.google.com/assets/colab-badge.svg\" alt=\"Open In Colab\"/></a>"
      ]
    },
    {
      "cell_type": "markdown",
      "source": [
        "Write a function my_nth_root(x,n,tol), where x and tol are strictly positive scalars, and n is an integer strictly greater than 1. The output argument, r, should be an approximation r=x−−√N, the N-th root of x. This approximation should be computed by using the Newton Raphson method to find the root of the function f(y)=yN−x. The error metric should be |f(y)|."
      ],
      "metadata": {
        "id": "n8ZIAaa7bF6e"
      }
    },
    {
      "cell_type": "code",
      "execution_count": 8,
      "metadata": {
        "colab": {
          "base_uri": "https://localhost:8080/"
        },
        "id": "fZ2mmRtgbCgZ",
        "outputId": "7784a681-d913-4d1c-acbb-fed3754e5e53"
      },
      "outputs": [
        {
          "output_type": "execute_result",
          "data": {
            "text/plain": [
              "1.8556007362583766"
            ]
          },
          "metadata": {},
          "execution_count": 8
        }
      ],
      "source": [
        "def my_nth_root(x, n, tol):\n",
        "\n",
        "  def f(y):\n",
        "    return (y**n)-x\n",
        "\n",
        "  def h(y):\n",
        "    return n*(y**(n-1))\n",
        "\n",
        "  guess = x/n\n",
        "\n",
        "  while abs(f(guess)) > tol:\n",
        "    guess = guess - f(guess) / h(guess)\n",
        "\n",
        "  return guess\n",
        "\n",
        "my_nth_root(22,5,1e-8)"
      ]
    },
    {
      "cell_type": "markdown",
      "source": [
        "Why does the bisection method fail for f(x)=1/x with error given by |b−a|? Hint: How does f(x) violate the intermediate value theorem?\n",
        "\n",
        "The bisection method fails for f(x)=1/x because the graph of 1/x is not continuous and is undefined at x=0."
      ],
      "metadata": {
        "id": "yrovLE7kbccg"
      }
    },
    {
      "cell_type": "markdown",
      "source": [
        "Write a function my_bisection(f,a,b,tol), that returns [R,E], where f is a function object, a and b are scalars such that a<b, and tol is a strictly positive scalar value. The function should return an array, R, where R[i] is the estimation of the root of f defined by (a+b)/2 for the i-th iteration of the bisection method. Remember to include the initial estimate. The function should also return an array, E, where E[i] is the value of |f(R[i])| for the i-th iteration of the bisection method. The function should terminate when E(i)<tol. You may assume that sign(f(a))≠sign(f(b))."
      ],
      "metadata": {
        "id": "jcw0FjrEbjGA"
      }
    },
    {
      "cell_type": "code",
      "source": [
        "import numpy as np\n",
        "\n",
        "def my_bisection(f, a, b, tol):\n",
        "\n",
        "    R = [(a + b) / 2]\n",
        "    E = [abs(f(R[0]))]\n",
        "\n",
        "    while E[-1] >= tol:\n",
        "        m = (a + b) / 2\n",
        "        fm = f(m)\n",
        "\n",
        "        if f(a) * fm < 0:\n",
        "            b = m\n",
        "        else:\n",
        "            a = m\n",
        "\n",
        "        R.append(m)\n",
        "        E.append(abs(fm))\n",
        "\n",
        "    return [R, E]\n",
        "\n",
        "f = lambda x: x**2 - 2\n",
        "[R, E] = my_bisection(f, 0, 2, 1e-1)\n",
        "print([R])\n",
        "print([E])\n",
        "\n",
        "f = lambda x: np.sin(x) - np.cos(x)\n",
        "[R, E] = my_bisection(f, 0, 2, 1e-2)\n",
        "print([R])\n",
        "print([E])"
      ],
      "metadata": {
        "colab": {
          "base_uri": "https://localhost:8080/"
        },
        "id": "agkSALWVbmbR",
        "outputId": "cbd19e9a-b8d2-4275-e34b-4444c2b9eb83"
      },
      "execution_count": 13,
      "outputs": [
        {
          "output_type": "stream",
          "name": "stdout",
          "text": [
            "[[1.0, 1.0, 1.5, 1.25, 1.375, 1.4375]]\n",
            "[[1.0, 1.0, 0.25, 0.4375, 0.109375, 0.06640625]]\n",
            "[[1.0, 1.0, 0.5, 0.75, 0.875, 0.8125, 0.78125]]\n",
            "[[0.30116867893975674, 0.30116867893975674, 0.39815702328616975, 0.050050108850486774, 0.126546644072702, 0.038323093040207756, 0.005866372111545948]]\n"
          ]
        }
      ]
    }
  ]
}